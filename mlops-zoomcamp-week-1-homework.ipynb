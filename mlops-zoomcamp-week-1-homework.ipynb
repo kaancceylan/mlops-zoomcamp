{
 "cells": [
  {
   "cell_type": "markdown",
   "id": "ed8f7b5d",
   "metadata": {},
   "source": [
    "# MLOps Zoomcamp Homework 1 Notebook"
   ]
  },
  {
   "cell_type": "code",
   "execution_count": 1,
   "id": "c0751f86",
   "metadata": {},
   "outputs": [],
   "source": [
    "import pandas as pd\n",
    "import numpy as np\n",
    "import seaborn as sns\n",
    "import matplotlib.pyplot as plt\n",
    "%matplotlib inline\n",
    "from sklearn.feature_extraction import DictVectorizer\n",
    "from sklearn.linear_model import LinearRegression\n",
    "from sklearn.metrics import mean_squared_error"
   ]
  },
  {
   "cell_type": "code",
   "execution_count": 2,
   "id": "22b52fac",
   "metadata": {
    "scrolled": true
   },
   "outputs": [],
   "source": [
    "train_df = pd.read_parquet(\"fhv_tripdata_2021-01.parquet\")"
   ]
  },
  {
   "cell_type": "markdown",
   "id": "fd18e094",
   "metadata": {},
   "source": [
    "### Let's calculate the trip duration by subtracting the two datetime values and dividing by 60 to get the result in hours."
   ]
  },
  {
   "cell_type": "code",
   "execution_count": 3,
   "id": "6512dec2",
   "metadata": {},
   "outputs": [
    {
     "name": "stdout",
     "output_type": "stream",
     "text": [
      "There are 1154112 number of records in the training dataset.\n"
     ]
    }
   ],
   "source": [
    "print(f\"There are {train_df.shape[0]} number of records in the training dataset.\")"
   ]
  },
  {
   "cell_type": "markdown",
   "id": "82e144b5",
   "metadata": {},
   "source": [
    "### Taking the difference between pickup and dropoff time and converting it from seconds to minutes."
   ]
  },
  {
   "cell_type": "code",
   "execution_count": 4,
   "id": "07f9bd55",
   "metadata": {},
   "outputs": [],
   "source": [
    "train_df['duration'] = train_df.dropOff_datetime - train_df.pickup_datetime\n",
    "train_df.duration = train_df.duration.apply(lambda trip_duration: trip_duration.total_seconds() / 60)"
   ]
  },
  {
   "cell_type": "code",
   "execution_count": 5,
   "id": "c2a59325",
   "metadata": {},
   "outputs": [
    {
     "name": "stdout",
     "output_type": "stream",
     "text": [
      "The average trip duration is: 19.17 minutes\n"
     ]
    }
   ],
   "source": [
    "print(f\"The average trip duration is:\", \"{:.2f}\".format(train_df.duration.mean()), \"minutes\")"
   ]
  },
  {
   "cell_type": "code",
   "execution_count": 6,
   "id": "ecf38ecf",
   "metadata": {},
   "outputs": [],
   "source": [
    "train_df = train_df[(train_df.duration >= 1) & (train_df.duration <= 60)]"
   ]
  },
  {
   "cell_type": "code",
   "execution_count": 7,
   "id": "0d144d92",
   "metadata": {
    "scrolled": true
   },
   "outputs": [
    {
     "name": "stdout",
     "output_type": "stream",
     "text": [
      "The number of records dropped after filtering is: 44286\n"
     ]
    }
   ],
   "source": [
    "print(f\"The number of records dropped after filtering is: {1154112 - train_df.shape[0]}\")"
   ]
  },
  {
   "cell_type": "markdown",
   "id": "5f250455",
   "metadata": {},
   "source": [
    "### Replacing the NaN values in the Pickup and Dropof location ID columns with -1 and calculating the percentages of missing values (-1s)"
   ]
  },
  {
   "cell_type": "code",
   "execution_count": 8,
   "id": "c9df18a1",
   "metadata": {},
   "outputs": [],
   "source": [
    "train_df.PUlocationID = train_df.PUlocationID.fillna(-1)\n",
    "train_df.DOlocationID = train_df.DOlocationID.fillna(-1)"
   ]
  },
  {
   "cell_type": "code",
   "execution_count": 9,
   "id": "1f44fa7d",
   "metadata": {},
   "outputs": [
    {
     "name": "stdout",
     "output_type": "stream",
     "text": [
      "% of missing values in the PUlocationID columns is:  0.84\n",
      "% of missing values in the DOlocationID columns is:  0.13\n"
     ]
    }
   ],
   "source": [
    "print(\"% of missing values in the PUlocationID columns is: \", \"{:.2f}\".format(train_df[\"PUlocationID\"].value_counts()[-1] / train_df.PUlocationID.count()))\n",
    "print(\"% of missing values in the DOlocationID columns is: \", \"{:.2f}\".format(train_df[\"DOlocationID\"].value_counts()[-1] / train_df.DOlocationID.count()))"
   ]
  },
  {
   "cell_type": "markdown",
   "id": "e1ce690d",
   "metadata": {},
   "source": [
    "### OneHot Encoding The Pickup and Dropoff Location ID's"
   ]
  },
  {
   "cell_type": "markdown",
   "id": "eec0d084",
   "metadata": {},
   "source": [
    "We'll use sklearn's DictVectorizer which does binary one-hot encoding."
   ]
  },
  {
   "cell_type": "code",
   "execution_count": 10,
   "id": "59d446a1",
   "metadata": {},
   "outputs": [],
   "source": [
    "dict_vec = DictVectorizer()\n",
    "features_to_dict = [\"PUlocationID\", \"DOlocationID\",]\n",
    "train_df_columns = train_df[features_to_dict].to_dict(orient = \"records\")\n",
    "X_train = dict_vec.fit_transform(train_df_columns)"
   ]
  },
  {
   "cell_type": "code",
   "execution_count": 12,
   "id": "921c0baa",
   "metadata": {},
   "outputs": [
    {
     "name": "stdout",
     "output_type": "stream",
     "text": [
      "The number of columns in the matrix after one-hot encoding is: 2\n"
     ]
    }
   ],
   "source": [
    "print(f\"The number of columns in the matrix after one-hot encoding is: {X_train.shape[1]}\")"
   ]
  },
  {
   "cell_type": "markdown",
   "id": "96918ceb",
   "metadata": {},
   "source": [
    "### Now let's train the Linear Regression model with the one-hot encoded matrix of pickup and dropoff location ID's"
   ]
  },
  {
   "cell_type": "code",
   "execution_count": 14,
   "id": "7f486233",
   "metadata": {},
   "outputs": [],
   "source": [
    "y_train = train_df[\"duration\"].values"
   ]
  },
  {
   "cell_type": "code",
   "execution_count": 38,
   "id": "82056585",
   "metadata": {},
   "outputs": [
    {
     "data": {
      "text/plain": [
       "11.415432830521663"
      ]
     },
     "execution_count": 38,
     "metadata": {},
     "output_type": "execute_result"
    }
   ],
   "source": [
    "lin_reg = LinearRegression()\n",
    "lin_reg.fit(X_train, y_train)\n",
    "y_pred = lin_reg.predict(X_train)\n",
    "\n",
    "mean_squared_error(y_train, y_pred, squared = False)"
   ]
  },
  {
   "cell_type": "code",
   "execution_count": 17,
   "id": "9dccbfde",
   "metadata": {},
   "outputs": [],
   "source": [
    "val_df = pd.read_parquet(\"fhv_tripdata_2021-02.parquet\")"
   ]
  },
  {
   "cell_type": "code",
   "execution_count": 27,
   "id": "489e0a16",
   "metadata": {},
   "outputs": [],
   "source": [
    "val_df['duration'] = val_df.dropOff_datetime - val_df.pickup_datetime\n",
    "val_df.duration = val_df.duration.apply(lambda trip_duration: trip_duration.total_seconds() / 60)"
   ]
  },
  {
   "cell_type": "code",
   "execution_count": 28,
   "id": "306d8863",
   "metadata": {},
   "outputs": [],
   "source": [
    "val_df = val_df[(val_df.duration >= 1) & (val_df.duration <= 60)]"
   ]
  },
  {
   "cell_type": "code",
   "execution_count": 22,
   "id": "e88e757f",
   "metadata": {},
   "outputs": [],
   "source": [
    "val_df.PUlocationID = val_df.PUlocationID.fillna(-1)\n",
    "val_df.DOlocationID = val_df.DOlocationID.fillna(-1)"
   ]
  },
  {
   "cell_type": "code",
   "execution_count": 25,
   "id": "bb12b40a",
   "metadata": {},
   "outputs": [],
   "source": [
    "val_df_columns = val_df[features_to_dict].to_dict(orient = \"records\")\n",
    "X_val = dict_vec.fit_transform(val_df_columns)"
   ]
  },
  {
   "cell_type": "code",
   "execution_count": 29,
   "id": "ca502ca5",
   "metadata": {},
   "outputs": [],
   "source": [
    "y_val = val_df['duration']"
   ]
  },
  {
   "cell_type": "code",
   "execution_count": 35,
   "id": "c0a10762",
   "metadata": {},
   "outputs": [
    {
     "data": {
      "text/plain": [
       "(990113,)"
      ]
     },
     "execution_count": 35,
     "metadata": {},
     "output_type": "execute_result"
    }
   ],
   "source": [
    "y_val.shape"
   ]
  },
  {
   "cell_type": "code",
   "execution_count": 36,
   "id": "ad84ff1f",
   "metadata": {},
   "outputs": [
    {
     "data": {
      "text/plain": [
       "(1037692,)"
      ]
     },
     "execution_count": 36,
     "metadata": {},
     "output_type": "execute_result"
    }
   ],
   "source": [
    "y_pred.shape"
   ]
  },
  {
   "cell_type": "code",
   "execution_count": 37,
   "id": "1315d7f8",
   "metadata": {},
   "outputs": [
    {
     "data": {
      "text/plain": [
       "(1037692, 2)"
      ]
     },
     "execution_count": 37,
     "metadata": {},
     "output_type": "execute_result"
    }
   ],
   "source": [
    "X_val.shape"
   ]
  },
  {
   "cell_type": "code",
   "execution_count": 39,
   "id": "2758123a",
   "metadata": {},
   "outputs": [
    {
     "ename": "ValueError",
     "evalue": "Found input variables with inconsistent numbers of samples: [990113, 1037692]",
     "output_type": "error",
     "traceback": [
      "\u001b[0;31m---------------------------------------------------------------------------\u001b[0m",
      "\u001b[0;31mValueError\u001b[0m                                Traceback (most recent call last)",
      "Input \u001b[0;32mIn [39]\u001b[0m, in \u001b[0;36m<cell line: 3>\u001b[0;34m()\u001b[0m\n\u001b[1;32m      1\u001b[0m y_pred \u001b[38;5;241m=\u001b[39m lin_reg\u001b[38;5;241m.\u001b[39mpredict(X_val)\n\u001b[0;32m----> 3\u001b[0m \u001b[43mmean_squared_error\u001b[49m\u001b[43m(\u001b[49m\u001b[43my_val\u001b[49m\u001b[43m,\u001b[49m\u001b[43m \u001b[49m\u001b[43my_pred\u001b[49m\u001b[43m,\u001b[49m\u001b[43m \u001b[49m\u001b[43msquared\u001b[49m\u001b[38;5;241;43m=\u001b[39;49m\u001b[38;5;28;43;01mFalse\u001b[39;49;00m\u001b[43m)\u001b[49m\n",
      "File \u001b[0;32m~/anaconda3/lib/python3.9/site-packages/sklearn/metrics/_regression.py:438\u001b[0m, in \u001b[0;36mmean_squared_error\u001b[0;34m(y_true, y_pred, sample_weight, multioutput, squared)\u001b[0m\n\u001b[1;32m    378\u001b[0m \u001b[38;5;28;01mdef\u001b[39;00m \u001b[38;5;21mmean_squared_error\u001b[39m(\n\u001b[1;32m    379\u001b[0m     y_true, y_pred, \u001b[38;5;241m*\u001b[39m, sample_weight\u001b[38;5;241m=\u001b[39m\u001b[38;5;28;01mNone\u001b[39;00m, multioutput\u001b[38;5;241m=\u001b[39m\u001b[38;5;124m\"\u001b[39m\u001b[38;5;124muniform_average\u001b[39m\u001b[38;5;124m\"\u001b[39m, squared\u001b[38;5;241m=\u001b[39m\u001b[38;5;28;01mTrue\u001b[39;00m\n\u001b[1;32m    380\u001b[0m ):\n\u001b[1;32m    381\u001b[0m     \u001b[38;5;124;03m\"\"\"Mean squared error regression loss.\u001b[39;00m\n\u001b[1;32m    382\u001b[0m \n\u001b[1;32m    383\u001b[0m \u001b[38;5;124;03m    Read more in the :ref:`User Guide <mean_squared_error>`.\u001b[39;00m\n\u001b[0;32m   (...)\u001b[0m\n\u001b[1;32m    436\u001b[0m \u001b[38;5;124;03m    0.825...\u001b[39;00m\n\u001b[1;32m    437\u001b[0m \u001b[38;5;124;03m    \"\"\"\u001b[39;00m\n\u001b[0;32m--> 438\u001b[0m     y_type, y_true, y_pred, multioutput \u001b[38;5;241m=\u001b[39m \u001b[43m_check_reg_targets\u001b[49m\u001b[43m(\u001b[49m\n\u001b[1;32m    439\u001b[0m \u001b[43m        \u001b[49m\u001b[43my_true\u001b[49m\u001b[43m,\u001b[49m\u001b[43m \u001b[49m\u001b[43my_pred\u001b[49m\u001b[43m,\u001b[49m\u001b[43m \u001b[49m\u001b[43mmultioutput\u001b[49m\n\u001b[1;32m    440\u001b[0m \u001b[43m    \u001b[49m\u001b[43m)\u001b[49m\n\u001b[1;32m    441\u001b[0m     check_consistent_length(y_true, y_pred, sample_weight)\n\u001b[1;32m    442\u001b[0m     output_errors \u001b[38;5;241m=\u001b[39m np\u001b[38;5;241m.\u001b[39maverage((y_true \u001b[38;5;241m-\u001b[39m y_pred) \u001b[38;5;241m*\u001b[39m\u001b[38;5;241m*\u001b[39m \u001b[38;5;241m2\u001b[39m, axis\u001b[38;5;241m=\u001b[39m\u001b[38;5;241m0\u001b[39m, weights\u001b[38;5;241m=\u001b[39msample_weight)\n",
      "File \u001b[0;32m~/anaconda3/lib/python3.9/site-packages/sklearn/metrics/_regression.py:94\u001b[0m, in \u001b[0;36m_check_reg_targets\u001b[0;34m(y_true, y_pred, multioutput, dtype)\u001b[0m\n\u001b[1;32m     60\u001b[0m \u001b[38;5;28;01mdef\u001b[39;00m \u001b[38;5;21m_check_reg_targets\u001b[39m(y_true, y_pred, multioutput, dtype\u001b[38;5;241m=\u001b[39m\u001b[38;5;124m\"\u001b[39m\u001b[38;5;124mnumeric\u001b[39m\u001b[38;5;124m\"\u001b[39m):\n\u001b[1;32m     61\u001b[0m     \u001b[38;5;124;03m\"\"\"Check that y_true and y_pred belong to the same regression task.\u001b[39;00m\n\u001b[1;32m     62\u001b[0m \n\u001b[1;32m     63\u001b[0m \u001b[38;5;124;03m    Parameters\u001b[39;00m\n\u001b[0;32m   (...)\u001b[0m\n\u001b[1;32m     92\u001b[0m \u001b[38;5;124;03m        the dtype argument passed to check_array.\u001b[39;00m\n\u001b[1;32m     93\u001b[0m \u001b[38;5;124;03m    \"\"\"\u001b[39;00m\n\u001b[0;32m---> 94\u001b[0m     \u001b[43mcheck_consistent_length\u001b[49m\u001b[43m(\u001b[49m\u001b[43my_true\u001b[49m\u001b[43m,\u001b[49m\u001b[43m \u001b[49m\u001b[43my_pred\u001b[49m\u001b[43m)\u001b[49m\n\u001b[1;32m     95\u001b[0m     y_true \u001b[38;5;241m=\u001b[39m check_array(y_true, ensure_2d\u001b[38;5;241m=\u001b[39m\u001b[38;5;28;01mFalse\u001b[39;00m, dtype\u001b[38;5;241m=\u001b[39mdtype)\n\u001b[1;32m     96\u001b[0m     y_pred \u001b[38;5;241m=\u001b[39m check_array(y_pred, ensure_2d\u001b[38;5;241m=\u001b[39m\u001b[38;5;28;01mFalse\u001b[39;00m, dtype\u001b[38;5;241m=\u001b[39mdtype)\n",
      "File \u001b[0;32m~/anaconda3/lib/python3.9/site-packages/sklearn/utils/validation.py:332\u001b[0m, in \u001b[0;36mcheck_consistent_length\u001b[0;34m(*arrays)\u001b[0m\n\u001b[1;32m    330\u001b[0m uniques \u001b[38;5;241m=\u001b[39m np\u001b[38;5;241m.\u001b[39munique(lengths)\n\u001b[1;32m    331\u001b[0m \u001b[38;5;28;01mif\u001b[39;00m \u001b[38;5;28mlen\u001b[39m(uniques) \u001b[38;5;241m>\u001b[39m \u001b[38;5;241m1\u001b[39m:\n\u001b[0;32m--> 332\u001b[0m     \u001b[38;5;28;01mraise\u001b[39;00m \u001b[38;5;167;01mValueError\u001b[39;00m(\n\u001b[1;32m    333\u001b[0m         \u001b[38;5;124m\"\u001b[39m\u001b[38;5;124mFound input variables with inconsistent numbers of samples: \u001b[39m\u001b[38;5;132;01m%r\u001b[39;00m\u001b[38;5;124m\"\u001b[39m\n\u001b[1;32m    334\u001b[0m         \u001b[38;5;241m%\u001b[39m [\u001b[38;5;28mint\u001b[39m(l) \u001b[38;5;28;01mfor\u001b[39;00m l \u001b[38;5;129;01min\u001b[39;00m lengths]\n\u001b[1;32m    335\u001b[0m     )\n",
      "\u001b[0;31mValueError\u001b[0m: Found input variables with inconsistent numbers of samples: [990113, 1037692]"
     ]
    }
   ],
   "source": [
    "y_pred = lin_reg.predict(X_val)\n",
    "\n",
    "mean_squared_error(y_val, y_pred, squared=False)"
   ]
  },
  {
   "cell_type": "markdown",
   "id": "9581a796",
   "metadata": {},
   "source": [
    "The lengths of y_val and y_pred are not matching."
   ]
  }
 ],
 "metadata": {
  "kernelspec": {
   "display_name": "Python 3 (ipykernel)",
   "language": "python",
   "name": "python3"
  },
  "language_info": {
   "codemirror_mode": {
    "name": "ipython",
    "version": 3
   },
   "file_extension": ".py",
   "mimetype": "text/x-python",
   "name": "python",
   "nbconvert_exporter": "python",
   "pygments_lexer": "ipython3",
   "version": "3.9.12"
  }
 },
 "nbformat": 4,
 "nbformat_minor": 5
}
